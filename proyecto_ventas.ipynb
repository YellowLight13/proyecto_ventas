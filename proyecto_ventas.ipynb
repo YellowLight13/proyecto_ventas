{
 "cells": [
  {
   "cell_type": "code",
   "execution_count": 1,
   "metadata": {},
   "outputs": [],
   "source": [
    "import numpy as np\n",
    "import pandas as pd\n",
    "import matplotlib.pyplot as plt"
   ]
  },
  {
   "cell_type": "code",
   "execution_count": 2,
   "metadata": {},
   "outputs": [
    {
     "data": {
      "text/html": [
       "<div>\n",
       "<style scoped>\n",
       "    .dataframe tbody tr th:only-of-type {\n",
       "        vertical-align: middle;\n",
       "    }\n",
       "\n",
       "    .dataframe tbody tr th {\n",
       "        vertical-align: top;\n",
       "    }\n",
       "\n",
       "    .dataframe thead th {\n",
       "        text-align: right;\n",
       "    }\n",
       "</style>\n",
       "<table border=\"1\" class=\"dataframe\">\n",
       "  <thead>\n",
       "    <tr style=\"text-align: right;\">\n",
       "      <th></th>\n",
       "      <th>Cantidad</th>\n",
       "      <th>Precio</th>\n",
       "    </tr>\n",
       "  </thead>\n",
       "  <tbody>\n",
       "    <tr>\n",
       "      <th>Producto 1</th>\n",
       "      <td>15.0</td>\n",
       "      <td>7.0</td>\n",
       "    </tr>\n",
       "    <tr>\n",
       "      <th>Producto 2</th>\n",
       "      <td>30.0</td>\n",
       "      <td>8.5</td>\n",
       "    </tr>\n",
       "    <tr>\n",
       "      <th>Producto 3</th>\n",
       "      <td>25.0</td>\n",
       "      <td>6.5</td>\n",
       "    </tr>\n",
       "    <tr>\n",
       "      <th>Producto 4</th>\n",
       "      <td>40.0</td>\n",
       "      <td>10.0</td>\n",
       "    </tr>\n",
       "    <tr>\n",
       "      <th>Producto 5</th>\n",
       "      <td>20.0</td>\n",
       "      <td>5.5</td>\n",
       "    </tr>\n",
       "  </tbody>\n",
       "</table>\n",
       "</div>"
      ],
      "text/plain": [
       "            Cantidad  Precio\n",
       "Producto 1      15.0     7.0\n",
       "Producto 2      30.0     8.5\n",
       "Producto 3      25.0     6.5\n",
       "Producto 4      40.0    10.0\n",
       "Producto 5      20.0     5.5"
      ]
     },
     "execution_count": 2,
     "metadata": {},
     "output_type": "execute_result"
    }
   ],
   "source": [
    "productos=np.array([[15, 7.0],[30, 8.5],[25, 6.5],[40, 10.0],[20, 5.5]])\n",
    "\n",
    "encabezados= [\"Cantidad\", \"Precio\"]\n",
    "producto=[\"Producto 1\", \"Producto 2\", \"Producto 3\", \"Producto 4\", \"Producto 5\"]\n",
    "df=pd.DataFrame(productos, index=producto, columns=encabezados)\n",
    "\n",
    "df.to_csv('proyecto_ventas.csv', index=False)\n",
    "\n",
    "df\n"
   ]
  },
  {
   "cell_type": "code",
   "execution_count": 3,
   "metadata": {},
   "outputs": [
    {
     "name": "stderr",
     "output_type": "stream",
     "text": [
      "C:\\Users\\aobre\\AppData\\Local\\Temp\\ipykernel_10384\\2266793192.py:1: FutureWarning: Series.__getitem__ treating keys as positions is deprecated. In a future version, integer keys will always be treated as labels (consistent with DataFrame behavior). To access a value by position, use `ser.iloc[pos]`\n",
      "  PT_P1= df[\"Cantidad\"][0]* df[\"Precio\"][0]\n",
      "C:\\Users\\aobre\\AppData\\Local\\Temp\\ipykernel_10384\\2266793192.py:2: FutureWarning: Series.__getitem__ treating keys as positions is deprecated. In a future version, integer keys will always be treated as labels (consistent with DataFrame behavior). To access a value by position, use `ser.iloc[pos]`\n",
      "  PT_P2= df[\"Cantidad\"][1]* df[\"Precio\"][1]\n",
      "C:\\Users\\aobre\\AppData\\Local\\Temp\\ipykernel_10384\\2266793192.py:3: FutureWarning: Series.__getitem__ treating keys as positions is deprecated. In a future version, integer keys will always be treated as labels (consistent with DataFrame behavior). To access a value by position, use `ser.iloc[pos]`\n",
      "  PT_P3= df[\"Cantidad\"][2]* df[\"Precio\"][2]\n",
      "C:\\Users\\aobre\\AppData\\Local\\Temp\\ipykernel_10384\\2266793192.py:4: FutureWarning: Series.__getitem__ treating keys as positions is deprecated. In a future version, integer keys will always be treated as labels (consistent with DataFrame behavior). To access a value by position, use `ser.iloc[pos]`\n",
      "  PT_P4= df[\"Cantidad\"][3]* df[\"Precio\"][3]\n",
      "C:\\Users\\aobre\\AppData\\Local\\Temp\\ipykernel_10384\\2266793192.py:5: FutureWarning: Series.__getitem__ treating keys as positions is deprecated. In a future version, integer keys will always be treated as labels (consistent with DataFrame behavior). To access a value by position, use `ser.iloc[pos]`\n",
      "  PT_P5= df[\"Cantidad\"][4]* df[\"Precio\"][4]\n"
     ]
    }
   ],
   "source": [
    "PT_P1= df[\"Cantidad\"][0]* df[\"Precio\"][0]\n",
    "PT_P2= df[\"Cantidad\"][1]* df[\"Precio\"][1]\n",
    "PT_P3= df[\"Cantidad\"][2]* df[\"Precio\"][2]\n",
    "PT_P4= df[\"Cantidad\"][3]* df[\"Precio\"][3]\n",
    "PT_P5= df[\"Cantidad\"][4]* df[\"Precio\"][4]"
   ]
  },
  {
   "cell_type": "code",
   "execution_count": 4,
   "metadata": {},
   "outputs": [
    {
     "name": "stdout",
     "output_type": "stream",
     "text": [
      "El precio total del Producto 1 es: 105.0 , \n",
      "El precio total del Producto 2 es: 255.0 , \n",
      "El precio total del Producto 3 es: 162.5 , \n",
      "El precio total del Producto 4 es: 400.0 , \n",
      "El precio total del Producto 5 es: 110.0\n"
     ]
    }
   ],
   "source": [
    "print(\n",
    "    \"El precio total del Producto 1 es:\", PT_P1,\",\"\n",
    "    \" \\nEl precio total del Producto 2 es:\", PT_P2,\",\"\n",
    "    \" \\nEl precio total del Producto 3 es:\", PT_P3,\",\"\n",
    "    \" \\nEl precio total del Producto 4 es:\", PT_P4,\",\"\n",
    "    \" \\nEl precio total del Producto 5 es:\", PT_P5\n",
    ")"
   ]
  }
 ],
 "metadata": {
  "kernelspec": {
   "display_name": "entorno_ventas",
   "language": "python",
   "name": "python3"
  },
  "language_info": {
   "codemirror_mode": {
    "name": "ipython",
    "version": 3
   },
   "file_extension": ".py",
   "mimetype": "text/x-python",
   "name": "python",
   "nbconvert_exporter": "python",
   "pygments_lexer": "ipython3",
   "version": "3.13.1"
  }
 },
 "nbformat": 4,
 "nbformat_minor": 2
}
